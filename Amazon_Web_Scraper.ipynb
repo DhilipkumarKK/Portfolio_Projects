{
 "cells": [
  {
   "cell_type": "code",
   "execution_count": 2,
   "id": "da006b75",
   "metadata": {},
   "outputs": [],
   "source": [
    "# import libraries\n",
    "\n",
    "from bs4 import BeautifulSoup\n",
    "import requests\n",
    "import time\n",
    "import datetime\n",
    "\n",
    "import smtplib\n"
   ]
  },
  {
   "cell_type": "code",
   "execution_count": 3,
   "id": "71f9bfe1",
   "metadata": {},
   "outputs": [
    {
     "name": "stdout",
     "output_type": "stream",
     "text": [
      "\n",
      "           Lenovo IdeaPad Slim 5 11th Gen Intel Core i5 14\" (35.56cm) FHD IPS Thin & Light Laptop (8GB/512GB SSD/Windows 10/MS Office/Backlit Keyboard/Fingerprint Reader/Graphite Grey/1.39Kg), 82FE00T9IN\n",
      "          \n",
      "\n",
      "                       ₹63,499.00\n",
      "                      \n",
      "\n",
      "               4.3 out of 5 stars\n",
      "              \n"
     ]
    }
   ],
   "source": [
    "#connecting to website and getting data \n",
    "\n",
    "URL =\"https://www.amazon.in/Lenovo-Keyboard-Fingerprint-Graphite-82FE00T9IN/dp/B09C5WY7BM/ref=sr_1_18?brr=1&qid=1686379139&rd=1&sr=8-18\"\n",
    "headers = {\"User-Agent\": \"Mozilla/5.0 (Windows NT 10.0; Win64; x64) AppleWebKit/537.36 (KHTML, like Gecko) Chrome/114.0.0.0 Safari/537.36 Edg/114.0.1823.43\",\"Accept-Encoding\":\"gzip, deflate\", \"Accept\":\"text/html,application/xhtml+xml,application/xml;q=0.9,*/*;q=0.8\", \"DNT\":\"1\",\"Connection\":\"close\", \"Upgrade-Insecure-Requests\":\"1\"}\n",
    "page = requests.get(URL,headers = headers)\n",
    "soup1 = BeautifulSoup(page.content,\"lxml\")\n",
    "soup2 = BeautifulSoup(soup1.prettify(),\"lxml\")\n",
    "title = soup2.find(id = \"productTitle\").get_text()\n",
    "price = soup2.find(\"span\",{\"class\":\"a-offscreen\"}).get_text()\n",
    "rating = soup2.find(\"span\",{\"class\":\"a-icon-alt\"}).get_text()\n",
    "print(title)\n",
    "print(price)\n",
    "print(rating)"
   ]
  },
  {
   "cell_type": "code",
   "execution_count": 4,
   "id": "b0b92873",
   "metadata": {},
   "outputs": [
    {
     "name": "stdout",
     "output_type": "stream",
     "text": [
      "Lenovo IdeaPad Slim 5 11th Gen Intel Core i5 14\" (35.56cm) FHD IPS Thin & Light Laptop (8GB/512GB SSD/Windows 10/MS Office/Backlit Keyboard/Fingerprint Reader/Graphite Grey/1.39Kg), 82FE00T9IN\n",
      "63,499.00\n",
      "4.3\n"
     ]
    }
   ],
   "source": [
    "#making it easy\n",
    "\n",
    "title = title.strip()\n",
    "price = price.strip()[1:]\n",
    "rating = rating.strip()[:3]\n",
    "\n",
    "print(title)\n",
    "print(price)\n",
    "print(rating)\n"
   ]
  },
  {
   "cell_type": "code",
   "execution_count": 5,
   "id": "2e4b72ad",
   "metadata": {},
   "outputs": [
    {
     "name": "stdout",
     "output_type": "stream",
     "text": [
      "2023-06-10\n"
     ]
    }
   ],
   "source": [
    "#import today date\n",
    "\n",
    "import datetime\n",
    "today = datetime.date.today()\n",
    "print(today)"
   ]
  },
  {
   "cell_type": "code",
   "execution_count": 6,
   "id": "ce5adcb6",
   "metadata": {},
   "outputs": [],
   "source": [
    "#creating CSV and uploading data \n",
    "\n",
    "import csv\n",
    "\n",
    "header = [\"Title\", \"Price\", \"Rating\",\"Date\"]\n",
    "data = [title,price,rating,today]\n",
    "\n",
    "with open(\"AmazonWebScaraperdata.csv\",\"w\",newline = \"\",encoding=\"UTF8\") as f:\n",
    "    writer = csv.writer(f)\n",
    "    writer.writerow(header)\n",
    "    writer.writerow(data)"
   ]
  },
  {
   "cell_type": "code",
   "execution_count": 7,
   "id": "33401b71",
   "metadata": {},
   "outputs": [
    {
     "name": "stdout",
     "output_type": "stream",
     "text": [
      "                                               Title      Price  Rating  \\\n",
      "0  Lenovo IdeaPad Slim 5 11th Gen Intel Core i5 1...  63,499.00     4.3   \n",
      "\n",
      "         Date  \n",
      "0  2023-06-10  \n"
     ]
    }
   ],
   "source": [
    "#importing PANDAS and checking the dataset\n",
    "\n",
    "import pandas as pd\n",
    "df = pd.read_csv(r\"C:\\Users\\kkdhi\\AmazonWebScaraperdata.csv\")\n",
    "print(df)"
   ]
  },
  {
   "cell_type": "code",
   "execution_count": 8,
   "id": "a07311e3",
   "metadata": {},
   "outputs": [],
   "source": [
    "#Now we are appending data to the csv\n",
    "\n",
    "with open(\"AmazonWebScraperdata.csv\", \"a+\", newline=\"\", encoding=\"UTF8\") as f:\n",
    "    writer = csv.writer(f)\n",
    "    writer.writerow(data)"
   ]
  },
  {
   "cell_type": "code",
   "execution_count": 9,
   "id": "7189f0b4",
   "metadata": {},
   "outputs": [],
   "source": [
    "#creating function to check price\n",
    "\n",
    "def Check_price():\n",
    "    URL =\"https://www.amazon.in/Lenovo-Keyboard-Fingerprint-Graphite-82FE00T9IN/dp/B09C5WY7BM/ref=sr_1_18?brr=1&qid=1686379139&rd=1&sr=8-18\"\n",
    "    headers = {\"User-Agent\": \"Mozilla/5.0 (Windows NT 10.0; Win64; x64) AppleWebKit/537.36 (KHTML, like Gecko) Chrome/114.0.0.0 Safari/537.36 Edg/114.0.1823.43\",\"Accept-Encoding\":\"gzip, deflate\", \"Accept\":\"text/html,application/xhtml+xml,application/xml;q=0.9,*/*;q=0.8\", \"DNT\":\"1\",\"Connection\":\"close\", \"Upgrade-Insecure-Requests\":\"1\"}\n",
    "    page = requests.get(URL,headers = headers)\n",
    "    soup1 = BeautifulSoup(page.content,\"lxml\")\n",
    "    soup2 = BeautifulSoup(soup1.prettify(),\"lxml\")\n",
    "    title = soup2.find(id = \"productTitle\").get_text()\n",
    "    price = soup2.find(\"span\",{\"class\":\"a-offscreen\"}).get_text()\n",
    "    rating = soup2.find(\"span\",{\"class\":\"a-icon-alt\"}).get_text()\n",
    "    print(title)\n",
    "    print(price)\n",
    "    print(rating)\n",
    "    import datetime\n",
    "    today = datetime.date.today()\n",
    "    import csv\n",
    "\n",
    "    header = [\"Title\", \"Price\", \"Rating\",\"Date\"]\n",
    "    data = [title,price,rating,today]\n",
    "    with open(\"AmazonWebScraperdata.csv\", \"a+\", newline=\"\", encoding=\"UTF8\") as f:\n",
    "        writer = csv.writer(f)\n",
    "        writer.writerow(data)   \n"
   ]
  },
  {
   "cell_type": "code",
   "execution_count": 10,
   "id": "63ace461",
   "metadata": {},
   "outputs": [],
   "source": [
    "# Runs check_price after a set time and inputs data into your CSV\n",
    "#if you want this function work you can remove the hash symbol\n",
    "\n",
    "#while(True):\n",
    "    #Check_price()\n",
    "    #time.sleep(86400)"
   ]
  },
  {
   "cell_type": "code",
   "execution_count": 11,
   "id": "eadbbd7c",
   "metadata": {},
   "outputs": [
    {
     "name": "stdout",
     "output_type": "stream",
     "text": [
      "                                               Title      Price  Rating  \\\n",
      "0  Lenovo IdeaPad Slim 5 11th Gen Intel Core i5 1...  63,499.00     4.3   \n",
      "\n",
      "         Date  \n",
      "0  2023-06-10  \n"
     ]
    }
   ],
   "source": [
    "#checking dataset after function\n",
    "\n",
    "import pandas as pd\n",
    "df = pd.read_csv(r\"C:\\Users\\kkdhi\\AmazonWebScaraperdata.csv\")\n",
    "print(df)"
   ]
  },
  {
   "cell_type": "code",
   "execution_count": null,
   "id": "1c187484",
   "metadata": {},
   "outputs": [],
   "source": []
  }
 ],
 "metadata": {
  "kernelspec": {
   "display_name": "Python 3 (ipykernel)",
   "language": "python",
   "name": "python3"
  },
  "language_info": {
   "codemirror_mode": {
    "name": "ipython",
    "version": 3
   },
   "file_extension": ".py",
   "mimetype": "text/x-python",
   "name": "python",
   "nbconvert_exporter": "python",
   "pygments_lexer": "ipython3",
   "version": "3.9.13"
  }
 },
 "nbformat": 4,
 "nbformat_minor": 5
}
